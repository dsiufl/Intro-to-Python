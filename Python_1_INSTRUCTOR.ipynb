{
 "cells": [
  {
   "cell_type": "markdown",
   "metadata": {},
   "source": [
    "# Python 1 Workshop (Instructor Version)\n",
    "\n",
    "Now that most of you have learned the basics of Python (variables, types, strings, data structures, loops, and functions) from our Python 0 workshop, we are ready to dive in to some more advanced Python topics. In this workshop we will learn how to use Python for data science, and introduce you to the basics of data science in Python. "
   ]
  },
  {
   "cell_type": "markdown",
   "metadata": {},
   "source": [
    "# Data Science Tutorial\n",
    "Now that we've covered some Python basics, we will begin a tutorial going through many tasks a data scientist may perform.  We will obtain real world data and go through the process of auditing, analyzing, visualing, and building classifiers from the data.\n",
    "\n",
    "For more information on this data set:\n",
    "http://apps.who.int/gho/data/node.home\n",
    "\n",
    "## Obtaining the Data\n",
    "Lets begin by programmatically obtaining the data.  Here I'll define a function we can use to make HTTP requests and download the data"
   ]
  },
  {
   "cell_type": "code",
   "execution_count": 523,
   "metadata": {
    "collapsed": true
   },
   "outputs": [],
   "source": [
    "def download_file(url, local_filename):\n",
    "    import requests\n",
    "    \n",
    "    # stream = True allows downloading of large files; prevents loading entire file into memory\n",
    "    r = requests.get(url, stream = True)\n",
    "    with open(local_filename, 'wb') as f:\n",
    "        for chunk in r.iter_content(chunk_size=1024): \n",
    "            if chunk: # filter out keep-alive new chunks\n",
    "                f.write(chunk)\n",
    "                f.flush()"
   ]
  },
  {
   "cell_type": "markdown",
   "metadata": {},
   "source": [
    "Now we'll specify the url of the file and the file name we will save to"
   ]
  },
  {
   "cell_type": "code",
   "execution_count": 524,
   "metadata": {
    "collapsed": true
   },
   "outputs": [],
   "source": [
    "url = 'https://raw.githubusercontent.com/dsiufl/Python-Workshops/master/humanresource.csv'\n",
    "filename = 'humanresource.csv'"
   ]
  },
  {
   "cell_type": "markdown",
   "metadata": {},
   "source": [
    "And make a call to <code>download_file</code>"
   ]
  },
  {
   "cell_type": "code",
   "execution_count": 525,
   "metadata": {
    "collapsed": true
   },
   "outputs": [],
   "source": [
    "download_file(url, filename)"
   ]
  },
  {
   "cell_type": "markdown",
   "metadata": {},
   "source": [
    "**Note:**  If you see an InsecurePlatformWarning message, ignore it. More info can be found here: https://urllib3.readthedocs.org/en/latest/security.html#insecureplatformwarning\n",
    "\n",
    "Now this might seem like overkill for downloading a single, small csv file, but we can use this same function to access countless APIs available on the World Wide Web by building an API request in the url.\n",
    "\n",
    "## Wrangling the Data\n",
    "Now that we have some data, lets get it into a useful form.  For this task we will use a package called pandas. pandas is an open source, BSD-licensed library providing high-performance, easy-to-use data structures and data analysis tools for Python.  The most fundamental data structure in pandas is the dataframe, which is similar to the data.frame data structure found in the R statistical programming language.\n",
    "\n",
    "For more information: http://pandas.pydata.org\n",
    "\n",
    "pandas dataframes are a 2-dimensional labeled data structures with columns of potentially different types.  Dataframes can be thought of as similar to a spreadsheet or SQL table.\n",
    "\n",
    "There are numerous ways to build a dataframe with pandas.  Since we have already attained a csv file, we can use a parser built into pandas called <code>read_csv</code> which will read the contents of a csv file directly into a data frame.\n",
    "\n",
    "For more information: http://pandas.pydata.org/pandas-docs/dev/generated/pandas.io.parsers.read_csv.html"
   ]
  },
  {
   "cell_type": "code",
   "execution_count": 526,
   "metadata": {},
   "outputs": [
    {
     "data": {
      "text/html": [
       "<div>\n",
       "<style scoped>\n",
       "    .dataframe tbody tr th:only-of-type {\n",
       "        vertical-align: middle;\n",
       "    }\n",
       "\n",
       "    .dataframe tbody tr th {\n",
       "        vertical-align: top;\n",
       "    }\n",
       "\n",
       "    .dataframe thead th {\n",
       "        text-align: right;\n",
       "    }\n",
       "</style>\n",
       "<table border=\"1\" class=\"dataframe\">\n",
       "  <thead>\n",
       "    <tr style=\"text-align: right;\">\n",
       "      <th></th>\n",
       "      <th>Unnamed: 0</th>\n",
       "      <th>Psychiatrists working in mental health sector (per 100,000)</th>\n",
       "      <th>Psychiatrists working in mental health sector (per 100,000).1</th>\n",
       "      <th>Nurses working in mental health sector (per 100,000)</th>\n",
       "      <th>Nurses working in mental health sector (per 100,000).1</th>\n",
       "      <th>Social workers working in mental health sector (per 100,000)</th>\n",
       "      <th>Social workers working in mental health sector (per 100,000).1</th>\n",
       "      <th>Psychologists working in mental health sector (per 100,000)</th>\n",
       "      <th>Psychologists working in mental health sector (per 100,000).1</th>\n",
       "    </tr>\n",
       "  </thead>\n",
       "  <tbody>\n",
       "    <tr>\n",
       "      <th>0</th>\n",
       "      <td>Country</td>\n",
       "      <td>2014.00</td>\n",
       "      <td>2011.00</td>\n",
       "      <td>2014.00</td>\n",
       "      <td>2011.00</td>\n",
       "      <td>2014.00</td>\n",
       "      <td>2011.00</td>\n",
       "      <td>2014.00</td>\n",
       "      <td>2011.00</td>\n",
       "    </tr>\n",
       "    <tr>\n",
       "      <th>1</th>\n",
       "      <td>Afghanistan</td>\n",
       "      <td>0.01</td>\n",
       "      <td>0.16</td>\n",
       "      <td>0.11</td>\n",
       "      <td>0.15</td>\n",
       "      <td>0.01</td>\n",
       "      <td>0.01</td>\n",
       "      <td>0.04</td>\n",
       "      <td>0.08</td>\n",
       "    </tr>\n",
       "    <tr>\n",
       "      <th>2</th>\n",
       "      <td>Albania</td>\n",
       "      <td>1.32</td>\n",
       "      <td>1.83</td>\n",
       "      <td>6.66</td>\n",
       "      <td>6.18</td>\n",
       "      <td>0.79</td>\n",
       "      <td>1.10</td>\n",
       "      <td>1.01</td>\n",
       "      <td>1.29</td>\n",
       "    </tr>\n",
       "    <tr>\n",
       "      <th>3</th>\n",
       "      <td>Algeria</td>\n",
       "      <td>2.29</td>\n",
       "      <td>1.55</td>\n",
       "      <td>NaN</td>\n",
       "      <td>6.01</td>\n",
       "      <td>0.08</td>\n",
       "      <td>NaN</td>\n",
       "      <td>3.43</td>\n",
       "      <td>4.26</td>\n",
       "    </tr>\n",
       "    <tr>\n",
       "      <th>4</th>\n",
       "      <td>Andorra</td>\n",
       "      <td>6.00</td>\n",
       "      <td>6.92</td>\n",
       "      <td>NaN</td>\n",
       "      <td>10.38</td>\n",
       "      <td>NaN</td>\n",
       "      <td>2.31</td>\n",
       "      <td>NaN</td>\n",
       "      <td>28.84</td>\n",
       "    </tr>\n",
       "  </tbody>\n",
       "</table>\n",
       "</div>"
      ],
      "text/plain": [
       "    Unnamed: 0  Psychiatrists working in mental health sector (per 100,000)  \\\n",
       "0      Country                                            2014.00             \n",
       "1  Afghanistan                                               0.01             \n",
       "2      Albania                                               1.32             \n",
       "3      Algeria                                               2.29             \n",
       "4      Andorra                                               6.00             \n",
       "\n",
       "   Psychiatrists working in mental health sector (per 100,000).1  \\\n",
       "0                                            2011.00               \n",
       "1                                               0.16               \n",
       "2                                               1.83               \n",
       "3                                               1.55               \n",
       "4                                               6.92               \n",
       "\n",
       "   Nurses working in mental health sector (per 100,000)  \\\n",
       "0                                            2014.00      \n",
       "1                                               0.11      \n",
       "2                                               6.66      \n",
       "3                                                NaN      \n",
       "4                                                NaN      \n",
       "\n",
       "   Nurses working in mental health sector (per 100,000).1  \\\n",
       "0                                            2011.00        \n",
       "1                                               0.15        \n",
       "2                                               6.18        \n",
       "3                                               6.01        \n",
       "4                                              10.38        \n",
       "\n",
       "   Social workers working in mental health sector (per 100,000)  \\\n",
       "0                                            2014.00              \n",
       "1                                               0.01              \n",
       "2                                               0.79              \n",
       "3                                               0.08              \n",
       "4                                                NaN              \n",
       "\n",
       "   Social workers working in mental health sector (per 100,000).1  \\\n",
       "0                                            2011.00                \n",
       "1                                               0.01                \n",
       "2                                               1.10                \n",
       "3                                                NaN                \n",
       "4                                               2.31                \n",
       "\n",
       "   Psychologists working in mental health sector (per 100,000)  \\\n",
       "0                                            2014.00             \n",
       "1                                               0.04             \n",
       "2                                               1.01             \n",
       "3                                               3.43             \n",
       "4                                                NaN             \n",
       "\n",
       "   Psychologists working in mental health sector (per 100,000).1  \n",
       "0                                            2011.00              \n",
       "1                                               0.08              \n",
       "2                                               1.29              \n",
       "3                                               4.26              \n",
       "4                                              28.84              "
      ]
     },
     "execution_count": 526,
     "metadata": {},
     "output_type": "execute_result"
    }
   ],
   "source": [
    "import pandas as pd # import the module and alias it as pd\n",
    "\n",
    "raw_health_data = pd.read_csv('humanresource.csv')\n",
    "raw_health_data.head() # show the first few rows of the data"
   ]
  },
  {
   "cell_type": "markdown",
   "metadata": {},
   "source": [
    "Lets take a look at some simple statistics for the **Psychiatrists working in mental health sector (per 100,000) column** for 2011."
   ]
  },
  {
   "cell_type": "code",
   "execution_count": 527,
   "metadata": {},
   "outputs": [
    {
     "data": {
      "text/plain": [
       "count     181.000000\n",
       "mean       15.183039\n",
       "std       149.321814\n",
       "min         0.000000\n",
       "25%         0.170000\n",
       "50%         1.100000\n",
       "75%         6.060000\n",
       "max      2011.000000\n",
       "Name: Psychiatrists working in mental health sector (per 100,000).1, dtype: float64"
      ]
     },
     "execution_count": 527,
     "metadata": {},
     "output_type": "execute_result"
    }
   ],
   "source": [
    "raw_health_data.iloc[:,2].describe()"
   ]
  },
  {
   "cell_type": "markdown",
   "metadata": {},
   "source": [
    "Wow! 6 Psychiatrists per 100,000 people was the 75th percentile of this data! When dealing with sets of data with different hierarchial categories, we will want to implement something called a MultiIndex table. They seem daunting at first, but after tinkering with them for a while you'll find they're very helpful in data cleaning and analysis. \n",
    "\n",
    "Read more here: http://pandas.pydata.org/pandas-docs/stable/advanced.html"
   ]
  },
  {
   "cell_type": "code",
   "execution_count": 528,
   "metadata": {},
   "outputs": [
    {
     "data": {
      "text/html": [
       "<div>\n",
       "<style scoped>\n",
       "    .dataframe tbody tr th:only-of-type {\n",
       "        vertical-align: middle;\n",
       "    }\n",
       "\n",
       "    .dataframe tbody tr th {\n",
       "        vertical-align: top;\n",
       "    }\n",
       "\n",
       "    .dataframe thead th {\n",
       "        text-align: right;\n",
       "    }\n",
       "</style>\n",
       "<table border=\"1\" class=\"dataframe\">\n",
       "  <thead>\n",
       "    <tr style=\"text-align: right;\">\n",
       "      <th></th>\n",
       "      <th>0</th>\n",
       "      <th>1</th>\n",
       "      <th>2</th>\n",
       "      <th>3</th>\n",
       "      <th>4</th>\n",
       "      <th>5</th>\n",
       "      <th>6</th>\n",
       "      <th>7</th>\n",
       "      <th>8</th>\n",
       "      <th>9</th>\n",
       "      <th>...</th>\n",
       "      <th>177</th>\n",
       "      <th>178</th>\n",
       "      <th>179</th>\n",
       "      <th>180</th>\n",
       "      <th>181</th>\n",
       "      <th>182</th>\n",
       "      <th>183</th>\n",
       "      <th>184</th>\n",
       "      <th>185</th>\n",
       "      <th>186</th>\n",
       "    </tr>\n",
       "  </thead>\n",
       "  <tbody>\n",
       "    <tr>\n",
       "      <th>Unnamed: 0</th>\n",
       "      <td>Country</td>\n",
       "      <td>Afghanistan</td>\n",
       "      <td>Albania</td>\n",
       "      <td>Algeria</td>\n",
       "      <td>Andorra</td>\n",
       "      <td>Angola</td>\n",
       "      <td>Antigua and Barbuda</td>\n",
       "      <td>Armenia</td>\n",
       "      <td>Australia</td>\n",
       "      <td>Austria</td>\n",
       "      <td>...</td>\n",
       "      <td>United Kingdom of Great Britain and Northern I...</td>\n",
       "      <td>United Republic of Tanzania</td>\n",
       "      <td>United States of America</td>\n",
       "      <td>Uruguay</td>\n",
       "      <td>Uzbekistan</td>\n",
       "      <td>Vanuatu</td>\n",
       "      <td>Viet Nam</td>\n",
       "      <td>Yemen</td>\n",
       "      <td>Zambia</td>\n",
       "      <td>Zimbabwe</td>\n",
       "    </tr>\n",
       "    <tr>\n",
       "      <th>Psychiatrists working in mental health sector (per 100,000)</th>\n",
       "      <td>2014</td>\n",
       "      <td>0.01</td>\n",
       "      <td>1.32</td>\n",
       "      <td>2.29</td>\n",
       "      <td>6</td>\n",
       "      <td>NaN</td>\n",
       "      <td>NaN</td>\n",
       "      <td>5.9</td>\n",
       "      <td>9.16</td>\n",
       "      <td>NaN</td>\n",
       "      <td>...</td>\n",
       "      <td>14.63</td>\n",
       "      <td>0.01</td>\n",
       "      <td>12.4</td>\n",
       "      <td>16.91</td>\n",
       "      <td>2.68</td>\n",
       "      <td>0.39</td>\n",
       "      <td>0.91</td>\n",
       "      <td>NaN</td>\n",
       "      <td>0.05</td>\n",
       "      <td>0.08</td>\n",
       "    </tr>\n",
       "    <tr>\n",
       "      <th>Psychiatrists working in mental health sector (per 100,000).1</th>\n",
       "      <td>2011</td>\n",
       "      <td>0.16</td>\n",
       "      <td>1.83</td>\n",
       "      <td>1.55</td>\n",
       "      <td>6.92</td>\n",
       "      <td>0.02</td>\n",
       "      <td>1.13</td>\n",
       "      <td>4.04</td>\n",
       "      <td>12.76</td>\n",
       "      <td>19.71</td>\n",
       "      <td>...</td>\n",
       "      <td>NaN</td>\n",
       "      <td>0.04</td>\n",
       "      <td>7.79</td>\n",
       "      <td>NaN</td>\n",
       "      <td>3.37</td>\n",
       "      <td>0</td>\n",
       "      <td>1.01</td>\n",
       "      <td>0.21</td>\n",
       "      <td>0.03</td>\n",
       "      <td>0.06</td>\n",
       "    </tr>\n",
       "  </tbody>\n",
       "</table>\n",
       "<p>3 rows × 187 columns</p>\n",
       "</div>"
      ],
      "text/plain": [
       "                                                        0            1    \\\n",
       "Unnamed: 0                                          Country  Afghanistan   \n",
       "Psychiatrists working in mental health sector (...     2014         0.01   \n",
       "Psychiatrists working in mental health sector (...     2011         0.16   \n",
       "\n",
       "                                                        2        3        4    \\\n",
       "Unnamed: 0                                          Albania  Algeria  Andorra   \n",
       "Psychiatrists working in mental health sector (...     1.32     2.29        6   \n",
       "Psychiatrists working in mental health sector (...     1.83     1.55     6.92   \n",
       "\n",
       "                                                       5    \\\n",
       "Unnamed: 0                                          Angola   \n",
       "Psychiatrists working in mental health sector (...     NaN   \n",
       "Psychiatrists working in mental health sector (...    0.02   \n",
       "\n",
       "                                                                    6    \\\n",
       "Unnamed: 0                                          Antigua and Barbuda   \n",
       "Psychiatrists working in mental health sector (...                  NaN   \n",
       "Psychiatrists working in mental health sector (...                 1.13   \n",
       "\n",
       "                                                        7          8    \\\n",
       "Unnamed: 0                                          Armenia  Australia   \n",
       "Psychiatrists working in mental health sector (...      5.9       9.16   \n",
       "Psychiatrists working in mental health sector (...     4.04      12.76   \n",
       "\n",
       "                                                        9      ...     \\\n",
       "Unnamed: 0                                          Austria    ...      \n",
       "Psychiatrists working in mental health sector (...      NaN    ...      \n",
       "Psychiatrists working in mental health sector (...    19.71    ...      \n",
       "\n",
       "                                                                                                  177  \\\n",
       "Unnamed: 0                                          United Kingdom of Great Britain and Northern I...   \n",
       "Psychiatrists working in mental health sector (...                                              14.63   \n",
       "Psychiatrists working in mental health sector (...                                                NaN   \n",
       "\n",
       "                                                                            178  \\\n",
       "Unnamed: 0                                          United Republic of Tanzania   \n",
       "Psychiatrists working in mental health sector (...                         0.01   \n",
       "Psychiatrists working in mental health sector (...                         0.04   \n",
       "\n",
       "                                                                         179  \\\n",
       "Unnamed: 0                                          United States of America   \n",
       "Psychiatrists working in mental health sector (...                      12.4   \n",
       "Psychiatrists working in mental health sector (...                      7.79   \n",
       "\n",
       "                                                        180         181  \\\n",
       "Unnamed: 0                                          Uruguay  Uzbekistan   \n",
       "Psychiatrists working in mental health sector (...    16.91        2.68   \n",
       "Psychiatrists working in mental health sector (...      NaN        3.37   \n",
       "\n",
       "                                                        182       183    184  \\\n",
       "Unnamed: 0                                          Vanuatu  Viet Nam  Yemen   \n",
       "Psychiatrists working in mental health sector (...     0.39      0.91    NaN   \n",
       "Psychiatrists working in mental health sector (...        0      1.01   0.21   \n",
       "\n",
       "                                                       185       186  \n",
       "Unnamed: 0                                          Zambia  Zimbabwe  \n",
       "Psychiatrists working in mental health sector (...    0.05      0.08  \n",
       "Psychiatrists working in mental health sector (...    0.03      0.06  \n",
       "\n",
       "[3 rows x 187 columns]"
      ]
     },
     "execution_count": 528,
     "metadata": {},
     "output_type": "execute_result"
    }
   ],
   "source": [
    "# having countries as our columns will make extracting their values much easier\n",
    "# it's much better writing the name of a country rather than the full title of the category when slicing!\n",
    "# we will use a transpose function to visualize what we want\n",
    "# you will soon see what the transpose function does (if you've taken linear algebra, you can take a guess)\n",
    "\n",
    "transposed_health_data = raw_health_data.T\n",
    "transposed_health_data.head(3)"
   ]
  },
  {
   "cell_type": "markdown",
   "metadata": {},
   "source": [
    "Almost there! Now the values of our first row have to become our column names so we can slice with them."
   ]
  },
  {
   "cell_type": "code",
   "execution_count": 529,
   "metadata": {},
   "outputs": [
    {
     "data": {
      "text/html": [
       "<div>\n",
       "<style scoped>\n",
       "    .dataframe tbody tr th:only-of-type {\n",
       "        vertical-align: middle;\n",
       "    }\n",
       "\n",
       "    .dataframe tbody tr th {\n",
       "        vertical-align: top;\n",
       "    }\n",
       "\n",
       "    .dataframe thead th {\n",
       "        text-align: right;\n",
       "    }\n",
       "</style>\n",
       "<table border=\"1\" class=\"dataframe\">\n",
       "  <thead>\n",
       "    <tr style=\"text-align: right;\">\n",
       "      <th></th>\n",
       "      <th>Country</th>\n",
       "      <th>Afghanistan</th>\n",
       "      <th>Albania</th>\n",
       "      <th>Algeria</th>\n",
       "      <th>Andorra</th>\n",
       "      <th>Angola</th>\n",
       "      <th>Antigua and Barbuda</th>\n",
       "      <th>Armenia</th>\n",
       "      <th>Australia</th>\n",
       "      <th>Austria</th>\n",
       "      <th>...</th>\n",
       "      <th>United Kingdom of Great Britain and Northern Ireland</th>\n",
       "      <th>United Republic of Tanzania</th>\n",
       "      <th>United States of America</th>\n",
       "      <th>Uruguay</th>\n",
       "      <th>Uzbekistan</th>\n",
       "      <th>Vanuatu</th>\n",
       "      <th>Viet Nam</th>\n",
       "      <th>Yemen</th>\n",
       "      <th>Zambia</th>\n",
       "      <th>Zimbabwe</th>\n",
       "    </tr>\n",
       "  </thead>\n",
       "  <tbody>\n",
       "    <tr>\n",
       "      <th>Psychiatrists working in mental health sector (per 100,000)</th>\n",
       "      <td>2014</td>\n",
       "      <td>0.01</td>\n",
       "      <td>1.32</td>\n",
       "      <td>2.29</td>\n",
       "      <td>6</td>\n",
       "      <td>NaN</td>\n",
       "      <td>NaN</td>\n",
       "      <td>5.9</td>\n",
       "      <td>9.16</td>\n",
       "      <td>NaN</td>\n",
       "      <td>...</td>\n",
       "      <td>14.63</td>\n",
       "      <td>0.01</td>\n",
       "      <td>12.4</td>\n",
       "      <td>16.91</td>\n",
       "      <td>2.68</td>\n",
       "      <td>0.39</td>\n",
       "      <td>0.91</td>\n",
       "      <td>NaN</td>\n",
       "      <td>0.05</td>\n",
       "      <td>0.08</td>\n",
       "    </tr>\n",
       "    <tr>\n",
       "      <th>Psychiatrists working in mental health sector (per 100,000).1</th>\n",
       "      <td>2011</td>\n",
       "      <td>0.16</td>\n",
       "      <td>1.83</td>\n",
       "      <td>1.55</td>\n",
       "      <td>6.92</td>\n",
       "      <td>0.02</td>\n",
       "      <td>1.13</td>\n",
       "      <td>4.04</td>\n",
       "      <td>12.76</td>\n",
       "      <td>19.71</td>\n",
       "      <td>...</td>\n",
       "      <td>NaN</td>\n",
       "      <td>0.04</td>\n",
       "      <td>7.79</td>\n",
       "      <td>NaN</td>\n",
       "      <td>3.37</td>\n",
       "      <td>0</td>\n",
       "      <td>1.01</td>\n",
       "      <td>0.21</td>\n",
       "      <td>0.03</td>\n",
       "      <td>0.06</td>\n",
       "    </tr>\n",
       "  </tbody>\n",
       "</table>\n",
       "<p>2 rows × 187 columns</p>\n",
       "</div>"
      ],
      "text/plain": [
       "                                                   Country Afghanistan  \\\n",
       "Psychiatrists working in mental health sector (...    2014        0.01   \n",
       "Psychiatrists working in mental health sector (...    2011        0.16   \n",
       "\n",
       "                                                   Albania Algeria Andorra  \\\n",
       "Psychiatrists working in mental health sector (...    1.32    2.29       6   \n",
       "Psychiatrists working in mental health sector (...    1.83    1.55    6.92   \n",
       "\n",
       "                                                   Angola Antigua and Barbuda  \\\n",
       "Psychiatrists working in mental health sector (...    NaN                 NaN   \n",
       "Psychiatrists working in mental health sector (...   0.02                1.13   \n",
       "\n",
       "                                                   Armenia Australia Austria  \\\n",
       "Psychiatrists working in mental health sector (...     5.9      9.16     NaN   \n",
       "Psychiatrists working in mental health sector (...    4.04     12.76   19.71   \n",
       "\n",
       "                                                     ...     \\\n",
       "Psychiatrists working in mental health sector (...   ...      \n",
       "Psychiatrists working in mental health sector (...   ...      \n",
       "\n",
       "                                                   United Kingdom of Great Britain and Northern Ireland  \\\n",
       "Psychiatrists working in mental health sector (...                                              14.63     \n",
       "Psychiatrists working in mental health sector (...                                                NaN     \n",
       "\n",
       "                                                   United Republic of Tanzania  \\\n",
       "Psychiatrists working in mental health sector (...                        0.01   \n",
       "Psychiatrists working in mental health sector (...                        0.04   \n",
       "\n",
       "                                                   United States of America  \\\n",
       "Psychiatrists working in mental health sector (...                     12.4   \n",
       "Psychiatrists working in mental health sector (...                     7.79   \n",
       "\n",
       "                                                   Uruguay Uzbekistan Vanuatu  \\\n",
       "Psychiatrists working in mental health sector (...   16.91       2.68    0.39   \n",
       "Psychiatrists working in mental health sector (...     NaN       3.37       0   \n",
       "\n",
       "                                                   Viet Nam Yemen Zambia  \\\n",
       "Psychiatrists working in mental health sector (...     0.91   NaN   0.05   \n",
       "Psychiatrists working in mental health sector (...     1.01  0.21   0.03   \n",
       "\n",
       "                                                   Zimbabwe  \n",
       "Psychiatrists working in mental health sector (...     0.08  \n",
       "Psychiatrists working in mental health sector (...     0.06  \n",
       "\n",
       "[2 rows x 187 columns]"
      ]
     },
     "execution_count": 529,
     "metadata": {},
     "output_type": "execute_result"
    }
   ],
   "source": [
    "transposed_health_data.rename(columns=transposed_health_data.iloc[0])\n",
    "\n",
    "# dropping the first row, we don't need it!\n",
    "\n",
    "clean_transposed_health_data = (transposed_health_data.copy()\n",
    "                                .rename(columns=transposed_health_data.iloc[0]).drop(index='Unnamed: 0'))\n",
    "\n",
    "clean_transposed_health_data.head(2)"
   ]
  },
  {
   "cell_type": "markdown",
   "metadata": {},
   "source": [
    "There's one more variable we will want to access: year. But it's stuck in a column. We could still utilize it using conditional slicing, but that's annoying. Instead, we will try to construct a MultiIndex dataframe! First, we need tuples for our index. We will create a list of all the categories, a list of all the years, then use itertools product (like a cartesian product, see here: https://docs.python.org/3/library/itertools.html#itertools.product) to create our tuple list."
   ]
  },
  {
   "cell_type": "code",
   "execution_count": 536,
   "metadata": {},
   "outputs": [
    {
     "data": {
      "text/plain": [
       "[('Psychiatrists working in mental health sector (per 100,000)', 2014),\n",
       " ('Psychiatrists working in mental health sector (per 100,000)', 2011),\n",
       " ('Nurses working in mental health sector (per 100,000)', 2014),\n",
       " ('Nurses working in mental health sector (per 100,000)', 2011),\n",
       " ('Social workers working in mental health sector (per 100,000)', 2014),\n",
       " ('Social workers working in mental health sector (per 100,000)', 2011),\n",
       " ('Psychologists working in mental health sector (per 100,000)', 2014),\n",
       " ('Psychologists working in mental health sector (per 100,000)', 2011)]"
      ]
     },
     "execution_count": 536,
     "metadata": {},
     "output_type": "execute_result"
    }
   ],
   "source": [
    "# bring out those Python0 list techniques! \n",
    "# we will need a list of tuples that contain each primary index and all of their possible values\n",
    "# like so: [(a,1),(a,2),(b,1),(b,2) ...]\n",
    "\n",
    "# get the categories \n",
    "\n",
    "cats = clean_transposed_health_data.index[::2]\n",
    "\n",
    "# and list the years (in order!)\n",
    "\n",
    "yrs = [2014, 2011]\n",
    "\n",
    "# itertools is a powerful library that has many applications \n",
    "\n",
    "import itertools \n",
    "\n",
    "index_tuple = list(itertools.product(cats, yrs))\n",
    "index_tuple"
   ]
  },
  {
   "cell_type": "markdown",
   "metadata": {},
   "source": [
    "Now we create a MultiIndex object and match our data by \"joining\" the country data with the index."
   ]
  },
  {
   "cell_type": "code",
   "execution_count": 537,
   "metadata": {},
   "outputs": [
    {
     "data": {
      "text/html": [
       "<div>\n",
       "<style scoped>\n",
       "    .dataframe tbody tr th:only-of-type {\n",
       "        vertical-align: middle;\n",
       "    }\n",
       "\n",
       "    .dataframe tbody tr th {\n",
       "        vertical-align: top;\n",
       "    }\n",
       "\n",
       "    .dataframe thead th {\n",
       "        text-align: right;\n",
       "    }\n",
       "</style>\n",
       "<table border=\"1\" class=\"dataframe\">\n",
       "  <thead>\n",
       "    <tr style=\"text-align: right;\">\n",
       "      <th></th>\n",
       "      <th></th>\n",
       "      <th>Afghanistan</th>\n",
       "      <th>Albania</th>\n",
       "      <th>Algeria</th>\n",
       "      <th>Andorra</th>\n",
       "      <th>Angola</th>\n",
       "      <th>Antigua and Barbuda</th>\n",
       "      <th>Armenia</th>\n",
       "      <th>Australia</th>\n",
       "      <th>Austria</th>\n",
       "      <th>Azerbaijan</th>\n",
       "      <th>...</th>\n",
       "      <th>United Kingdom of Great Britain and Northern Ireland</th>\n",
       "      <th>United Republic of Tanzania</th>\n",
       "      <th>United States of America</th>\n",
       "      <th>Uruguay</th>\n",
       "      <th>Uzbekistan</th>\n",
       "      <th>Vanuatu</th>\n",
       "      <th>Viet Nam</th>\n",
       "      <th>Yemen</th>\n",
       "      <th>Zambia</th>\n",
       "      <th>Zimbabwe</th>\n",
       "    </tr>\n",
       "    <tr>\n",
       "      <th>Category</th>\n",
       "      <th>Year</th>\n",
       "      <th></th>\n",
       "      <th></th>\n",
       "      <th></th>\n",
       "      <th></th>\n",
       "      <th></th>\n",
       "      <th></th>\n",
       "      <th></th>\n",
       "      <th></th>\n",
       "      <th></th>\n",
       "      <th></th>\n",
       "      <th></th>\n",
       "      <th></th>\n",
       "      <th></th>\n",
       "      <th></th>\n",
       "      <th></th>\n",
       "      <th></th>\n",
       "      <th></th>\n",
       "      <th></th>\n",
       "      <th></th>\n",
       "      <th></th>\n",
       "      <th></th>\n",
       "    </tr>\n",
       "  </thead>\n",
       "  <tbody>\n",
       "    <tr>\n",
       "      <th rowspan=\"2\" valign=\"top\">Psychiatrists working in mental health sector (per 100,000)</th>\n",
       "      <th>2014</th>\n",
       "      <td>0.01</td>\n",
       "      <td>1.32</td>\n",
       "      <td>2.29</td>\n",
       "      <td>6</td>\n",
       "      <td>NaN</td>\n",
       "      <td>NaN</td>\n",
       "      <td>5.9</td>\n",
       "      <td>9.16</td>\n",
       "      <td>NaN</td>\n",
       "      <td>3.72</td>\n",
       "      <td>...</td>\n",
       "      <td>14.63</td>\n",
       "      <td>0.01</td>\n",
       "      <td>12.4</td>\n",
       "      <td>16.91</td>\n",
       "      <td>2.68</td>\n",
       "      <td>0.39</td>\n",
       "      <td>0.91</td>\n",
       "      <td>NaN</td>\n",
       "      <td>0.05</td>\n",
       "      <td>0.08</td>\n",
       "    </tr>\n",
       "    <tr>\n",
       "      <th>2011</th>\n",
       "      <td>0.16</td>\n",
       "      <td>1.83</td>\n",
       "      <td>1.55</td>\n",
       "      <td>6.92</td>\n",
       "      <td>0.02</td>\n",
       "      <td>1.13</td>\n",
       "      <td>4.04</td>\n",
       "      <td>12.76</td>\n",
       "      <td>19.71</td>\n",
       "      <td>5.08</td>\n",
       "      <td>...</td>\n",
       "      <td>NaN</td>\n",
       "      <td>0.04</td>\n",
       "      <td>7.79</td>\n",
       "      <td>NaN</td>\n",
       "      <td>3.37</td>\n",
       "      <td>0</td>\n",
       "      <td>1.01</td>\n",
       "      <td>0.21</td>\n",
       "      <td>0.03</td>\n",
       "      <td>0.06</td>\n",
       "    </tr>\n",
       "    <tr>\n",
       "      <th rowspan=\"2\" valign=\"top\">Nurses working in mental health sector (per 100,000)</th>\n",
       "      <th>2014</th>\n",
       "      <td>0.11</td>\n",
       "      <td>6.66</td>\n",
       "      <td>NaN</td>\n",
       "      <td>NaN</td>\n",
       "      <td>NaN</td>\n",
       "      <td>NaN</td>\n",
       "      <td>NaN</td>\n",
       "      <td>70.91</td>\n",
       "      <td>NaN</td>\n",
       "      <td>6.4</td>\n",
       "      <td>...</td>\n",
       "      <td>67.35</td>\n",
       "      <td>0.23</td>\n",
       "      <td>4.25</td>\n",
       "      <td>NaN</td>\n",
       "      <td>8.96</td>\n",
       "      <td>2.32</td>\n",
       "      <td>2.92</td>\n",
       "      <td>NaN</td>\n",
       "      <td>1.07</td>\n",
       "      <td>2.8</td>\n",
       "    </tr>\n",
       "    <tr>\n",
       "      <th>2011</th>\n",
       "      <td>0.15</td>\n",
       "      <td>6.18</td>\n",
       "      <td>6.01</td>\n",
       "      <td>10.38</td>\n",
       "      <td>0.61</td>\n",
       "      <td>13.55</td>\n",
       "      <td>10.42</td>\n",
       "      <td>69.54</td>\n",
       "      <td>NaN</td>\n",
       "      <td>8.84</td>\n",
       "      <td>...</td>\n",
       "      <td>NaN</td>\n",
       "      <td>NaN</td>\n",
       "      <td>3.07</td>\n",
       "      <td>NaN</td>\n",
       "      <td>8.79</td>\n",
       "      <td>4.88</td>\n",
       "      <td>75.34</td>\n",
       "      <td>0.13</td>\n",
       "      <td>1.36</td>\n",
       "      <td>2.86</td>\n",
       "    </tr>\n",
       "  </tbody>\n",
       "</table>\n",
       "<p>4 rows × 186 columns</p>\n",
       "</div>"
      ],
      "text/plain": [
       "                                                        Afghanistan Albania  \\\n",
       "Category                                           Year                       \n",
       "Psychiatrists working in mental health sector (... 2014        0.01    1.32   \n",
       "                                                   2011        0.16    1.83   \n",
       "Nurses working in mental health sector (per 100... 2014        0.11    6.66   \n",
       "                                                   2011        0.15    6.18   \n",
       "\n",
       "                                                        Algeria Andorra  \\\n",
       "Category                                           Year                   \n",
       "Psychiatrists working in mental health sector (... 2014    2.29       6   \n",
       "                                                   2011    1.55    6.92   \n",
       "Nurses working in mental health sector (per 100... 2014     NaN     NaN   \n",
       "                                                   2011    6.01   10.38   \n",
       "\n",
       "                                                        Angola  \\\n",
       "Category                                           Year          \n",
       "Psychiatrists working in mental health sector (... 2014    NaN   \n",
       "                                                   2011   0.02   \n",
       "Nurses working in mental health sector (per 100... 2014    NaN   \n",
       "                                                   2011   0.61   \n",
       "\n",
       "                                                        Antigua and Barbuda  \\\n",
       "Category                                           Year                       \n",
       "Psychiatrists working in mental health sector (... 2014                 NaN   \n",
       "                                                   2011                1.13   \n",
       "Nurses working in mental health sector (per 100... 2014                 NaN   \n",
       "                                                   2011               13.55   \n",
       "\n",
       "                                                        Armenia Australia  \\\n",
       "Category                                           Year                     \n",
       "Psychiatrists working in mental health sector (... 2014     5.9      9.16   \n",
       "                                                   2011    4.04     12.76   \n",
       "Nurses working in mental health sector (per 100... 2014     NaN     70.91   \n",
       "                                                   2011   10.42     69.54   \n",
       "\n",
       "                                                        Austria Azerbaijan  \\\n",
       "Category                                           Year                      \n",
       "Psychiatrists working in mental health sector (... 2014     NaN       3.72   \n",
       "                                                   2011   19.71       5.08   \n",
       "Nurses working in mental health sector (per 100... 2014     NaN        6.4   \n",
       "                                                   2011     NaN       8.84   \n",
       "\n",
       "                                                          ...     \\\n",
       "Category                                           Year   ...      \n",
       "Psychiatrists working in mental health sector (... 2014   ...      \n",
       "                                                   2011   ...      \n",
       "Nurses working in mental health sector (per 100... 2014   ...      \n",
       "                                                   2011   ...      \n",
       "\n",
       "                                                        United Kingdom of Great Britain and Northern Ireland  \\\n",
       "Category                                           Year                                                        \n",
       "Psychiatrists working in mental health sector (... 2014                                              14.63     \n",
       "                                                   2011                                                NaN     \n",
       "Nurses working in mental health sector (per 100... 2014                                              67.35     \n",
       "                                                   2011                                                NaN     \n",
       "\n",
       "                                                        United Republic of Tanzania  \\\n",
       "Category                                           Year                               \n",
       "Psychiatrists working in mental health sector (... 2014                        0.01   \n",
       "                                                   2011                        0.04   \n",
       "Nurses working in mental health sector (per 100... 2014                        0.23   \n",
       "                                                   2011                         NaN   \n",
       "\n",
       "                                                        United States of America  \\\n",
       "Category                                           Year                            \n",
       "Psychiatrists working in mental health sector (... 2014                     12.4   \n",
       "                                                   2011                     7.79   \n",
       "Nurses working in mental health sector (per 100... 2014                     4.25   \n",
       "                                                   2011                     3.07   \n",
       "\n",
       "                                                        Uruguay Uzbekistan  \\\n",
       "Category                                           Year                      \n",
       "Psychiatrists working in mental health sector (... 2014   16.91       2.68   \n",
       "                                                   2011     NaN       3.37   \n",
       "Nurses working in mental health sector (per 100... 2014     NaN       8.96   \n",
       "                                                   2011     NaN       8.79   \n",
       "\n",
       "                                                        Vanuatu Viet Nam  \\\n",
       "Category                                           Year                    \n",
       "Psychiatrists working in mental health sector (... 2014    0.39     0.91   \n",
       "                                                   2011       0     1.01   \n",
       "Nurses working in mental health sector (per 100... 2014    2.32     2.92   \n",
       "                                                   2011    4.88    75.34   \n",
       "\n",
       "                                                        Yemen Zambia Zimbabwe  \n",
       "Category                                           Year                        \n",
       "Psychiatrists working in mental health sector (... 2014   NaN   0.05     0.08  \n",
       "                                                   2011  0.21   0.03     0.06  \n",
       "Nurses working in mental health sector (per 100... 2014   NaN   1.07      2.8  \n",
       "                                                   2011  0.13   1.36     2.86  \n",
       "\n",
       "[4 rows x 186 columns]"
      ]
     },
     "execution_count": 537,
     "metadata": {},
     "output_type": "execute_result"
    }
   ],
   "source": [
    "index = pd.MultiIndex.from_tuples(index_tuple, names=['Category', 'Year'])\n",
    "\n",
    "# attach to the index\n",
    "\n",
    "# we need to truncate the data because our first column of our table still consists of the years \n",
    "\n",
    "psych_data_almost = pd.DataFrame(clean_transposed_health_data.iloc[:,1:].values, index=index)\n",
    "\n",
    "# for some reason, we need to convert the list of countries into a series\n",
    "\n",
    "country_series = pd.Series(clean_transposed_health_data.columns[1:])\n",
    "\n",
    "psych_data = psych_data_almost.rename(columns=country_series)\n",
    "\n",
    "psych_data.head(4)"
   ]
  },
  {
   "cell_type": "code",
   "execution_count": 532,
   "metadata": {
    "collapsed": true
   },
   "outputs": [],
   "source": [
    "#final.unstack().max().sort_values(ascending=False).dropna()"
   ]
  },
  {
   "cell_type": "code",
   "execution_count": 533,
   "metadata": {
    "collapsed": true
   },
   "outputs": [],
   "source": [
    "import matplotlib as plt"
   ]
  },
  {
   "cell_type": "markdown",
   "metadata": {},
   "source": [
    "## EDA: Exploratory Data Analysis \n",
    "\n",
    "Now that we have cleaned the data, it's time to move onto the most important step of data science: EDA! What can we find? Do we see any clues on what we should visualize?"
   ]
  },
  {
   "cell_type": "code",
   "execution_count": 646,
   "metadata": {},
   "outputs": [
    {
     "data": {
      "text/html": [
       "<div>\n",
       "<style scoped>\n",
       "    .dataframe tbody tr th:only-of-type {\n",
       "        vertical-align: middle;\n",
       "    }\n",
       "\n",
       "    .dataframe tbody tr th {\n",
       "        vertical-align: top;\n",
       "    }\n",
       "\n",
       "    .dataframe thead tr th {\n",
       "        text-align: left;\n",
       "    }\n",
       "</style>\n",
       "<table border=\"1\" class=\"dataframe\">\n",
       "  <thead>\n",
       "    <tr>\n",
       "      <th>Category</th>\n",
       "      <th colspan=\"2\" halign=\"left\">Psychiatrists working in mental health sector (per 100,000)</th>\n",
       "      <th colspan=\"2\" halign=\"left\">Nurses working in mental health sector (per 100,000)</th>\n",
       "      <th colspan=\"2\" halign=\"left\">Social workers working in mental health sector (per 100,000)</th>\n",
       "      <th colspan=\"2\" halign=\"left\">Psychologists working in mental health sector (per 100,000)</th>\n",
       "    </tr>\n",
       "    <tr>\n",
       "      <th>Year</th>\n",
       "      <th>2014</th>\n",
       "      <th>2011</th>\n",
       "      <th>2014</th>\n",
       "      <th>2011</th>\n",
       "      <th>2014</th>\n",
       "      <th>2011</th>\n",
       "      <th>2014</th>\n",
       "      <th>2011</th>\n",
       "    </tr>\n",
       "  </thead>\n",
       "  <tbody>\n",
       "    <tr>\n",
       "      <th>count</th>\n",
       "      <td>125.00</td>\n",
       "      <td>180.00</td>\n",
       "      <td>110.00</td>\n",
       "      <td>163.00</td>\n",
       "      <td>109.0</td>\n",
       "      <td>138.0</td>\n",
       "      <td>111.0</td>\n",
       "      <td>156.0</td>\n",
       "    </tr>\n",
       "    <tr>\n",
       "      <th>unique</th>\n",
       "      <td>101.00</td>\n",
       "      <td>133.00</td>\n",
       "      <td>106.00</td>\n",
       "      <td>152.00</td>\n",
       "      <td>70.0</td>\n",
       "      <td>75.0</td>\n",
       "      <td>77.0</td>\n",
       "      <td>97.0</td>\n",
       "    </tr>\n",
       "    <tr>\n",
       "      <th>top</th>\n",
       "      <td>0.29</td>\n",
       "      <td>0.03</td>\n",
       "      <td>0.29</td>\n",
       "      <td>0.19</td>\n",
       "      <td>0.0</td>\n",
       "      <td>0.0</td>\n",
       "      <td>0.0</td>\n",
       "      <td>0.0</td>\n",
       "    </tr>\n",
       "    <tr>\n",
       "      <th>freq</th>\n",
       "      <td>4.00</td>\n",
       "      <td>7.00</td>\n",
       "      <td>3.00</td>\n",
       "      <td>3.00</td>\n",
       "      <td>12.0</td>\n",
       "      <td>24.0</td>\n",
       "      <td>9.0</td>\n",
       "      <td>24.0</td>\n",
       "    </tr>\n",
       "  </tbody>\n",
       "</table>\n",
       "</div>"
      ],
      "text/plain": [
       "Category Psychiatrists working in mental health sector (per 100,000)          \\\n",
       "Year                                                            2014    2011   \n",
       "count                                                125.00           180.00   \n",
       "unique                                               101.00           133.00   \n",
       "top                                                    0.29             0.03   \n",
       "freq                                                   4.00             7.00   \n",
       "\n",
       "Category Nurses working in mental health sector (per 100,000)          \\\n",
       "Year                                                     2014    2011   \n",
       "count                                                110.00    163.00   \n",
       "unique                                               106.00    152.00   \n",
       "top                                                    0.29      0.19   \n",
       "freq                                                   3.00      3.00   \n",
       "\n",
       "Category Social workers working in mental health sector (per 100,000)         \\\n",
       "Year                                                             2014   2011   \n",
       "count                                                 109.0            138.0   \n",
       "unique                                                 70.0             75.0   \n",
       "top                                                     0.0              0.0   \n",
       "freq                                                   12.0             24.0   \n",
       "\n",
       "Category Psychologists working in mental health sector (per 100,000)         \n",
       "Year                                                            2014   2011  \n",
       "count                                                 111.0           156.0  \n",
       "unique                                                 77.0            97.0  \n",
       "top                                                     0.0             0.0  \n",
       "freq                                                    9.0            24.0  "
      ]
     },
     "execution_count": 646,
     "metadata": {},
     "output_type": "execute_result"
    }
   ],
   "source": [
    "psych_data.T.describe()"
   ]
  },
  {
   "cell_type": "markdown",
   "metadata": {},
   "source": [
    "Looks like we have some missing data. There are many methods concerning how to deal with this, but for now we will try to ignore them."
   ]
  },
  {
   "cell_type": "code",
   "execution_count": 726,
   "metadata": {},
   "outputs": [
    {
     "data": {
      "text/plain": [
       "Category                                                      Year\n",
       "Psychiatrists working in mental health sector (per 100,000)   2014     40.98\n",
       "                                                              2011     41.42\n",
       "Nurses working in mental health sector (per 100,000)          2014    123.08\n",
       "                                                              2011    904.03\n",
       "Social workers working in mental health sector (per 100,000)  2014    117.79\n",
       "                                                              2011     68.19\n",
       "Psychologists working in mental health sector (per 100,000)   2014     90.76\n",
       "                                                              2011     79.88\n",
       "dtype: float64"
      ]
     },
     "execution_count": 726,
     "metadata": {},
     "output_type": "execute_result"
    }
   ],
   "source": [
    "# what are our maximum values? \n",
    "\n",
    "psych_data.T.max()"
   ]
  },
  {
   "cell_type": "code",
   "execution_count": 1007,
   "metadata": {},
   "outputs": [
    {
     "data": {
      "text/plain": [
       "Finland                             -9.69\n",
       "France                              -8.23\n",
       "Denmark                             -4.55\n",
       "Cyprus                              -4.13\n",
       "Australia                           -3.60\n",
       "Bahrain                             -3.34\n",
       "Serbia                              -2.26\n",
       "Portugal                            -1.65\n",
       "Marshall Islands                    -1.58\n",
       "Azerbaijan                          -1.36\n",
       "Belarus                             -1.11\n",
       "Norway                              -1.08\n",
       "Georgia                             -1.02\n",
       "Tonga                               -0.97\n",
       "Bosnia and Herzegovina              -0.95\n",
       "Saint Vincent and the Grenadines    -0.92\n",
       "Andorra                             -0.92\n",
       "Mexico                              -0.90\n",
       "Saudi Arabia                        -0.77\n",
       "Uzbekistan                          -0.69\n",
       "Saint Lucia                         -0.63\n",
       "Turkey                              -0.62\n",
       "Cuba                                -0.59\n",
       "Jordan                              -0.57\n",
       "Russian Federation                  -0.55\n",
       "Lebanon                             -0.54\n",
       "Albania                             -0.51\n",
       "Spain                               -0.51\n",
       "Romania                             -0.47\n",
       "Morocco                             -0.45\n",
       "                                    ...  \n",
       "Estonia                              0.37\n",
       "Vanuatu                              0.39\n",
       "Brazil                               0.42\n",
       "Thailand                             0.43\n",
       "Tunisia                              0.60\n",
       "Singapore                            0.67\n",
       "Kuwait                               0.71\n",
       "Algeria                              0.74\n",
       "Tajikistan                           0.80\n",
       "Canada                               0.81\n",
       "Republic of Moldova                  0.89\n",
       "Paraguay                             1.16\n",
       "Latvia                               1.20\n",
       "Greece                               1.21\n",
       "Qatar                                1.29\n",
       "Netherlands                          1.33\n",
       "Montenegro                           1.66\n",
       "Armenia                              1.86\n",
       "Maldives                             2.11\n",
       "Brunei Darussalam                    2.33\n",
       "Trinidad and Tobago                  2.45\n",
       "Italy                                3.04\n",
       "Slovenia                             3.15\n",
       "Israel                               3.33\n",
       "Chile                                3.67\n",
       "Monaco                               4.51\n",
       "United States of America             4.61\n",
       "Sweden                              14.76\n",
       "Hungary                               NaN\n",
       "Syrian Arab Republic                  NaN\n",
       "Name: Psychiatrists working in mental health sector (per 100,000), Length: 122, dtype: float64"
      ]
     },
     "execution_count": 1007,
     "metadata": {},
     "output_type": "execute_result"
    }
   ],
   "source": [
    "psych_data.swaplevel()\n",
    "\n",
    "psych_data.swaplevel().groupby('Category', level=1)\n",
    "\n",
    "psych_data.swaplevel().groupby('Category', level=1).agg(lambda x: x[0] - x[1])\n",
    "\n",
    "psych_data_diff = psych_data.swaplevel().groupby('Category', level=1).agg(lambda x: x[0] - x[1])\n",
    "\n",
    "psych_data_diff.T.dropna(how='all').iloc[:,1].sort_values()"
   ]
  },
  {
   "cell_type": "markdown",
   "metadata": {
    "collapsed": true
   },
   "source": [
    "## Visualizing the Data\n",
    "Another important tool in the data scientist's toolbox is the ability to create visualizations from data.  Visualizing data is often the most logical place to start getting a deeper intuition of the data.  This intuition will shape and drive your analysis.\n",
    "\n",
    "Even more important than visualizing data for your own personal benefit, it is often the job of the data scientist to use the data to tell a story.  Creating illustrative visuals that succinctly convey an idea are the best way to tell that story, especially to stakeholders with less technical skillsets.\n",
    "\n",
    "Here we will be using a Python package called seaborn (https://seaborn.pydata.org/).\n",
    "\n",
    "We'll start by doing a bit of setup:"
   ]
  },
  {
   "cell_type": "code",
   "execution_count": 654,
   "metadata": {
    "collapsed": true
   },
   "outputs": [],
   "source": [
    "# The following line is NOT Python code, but a special syntax for enabling inline plotting in IPython\n",
    "%matplotlib inline \n",
    "\n",
    "import seaborn as sns"
   ]
  },
  {
   "cell_type": "code",
   "execution_count": 769,
   "metadata": {},
   "outputs": [
    {
     "data": {
      "text/plain": [
       "<matplotlib.axes._subplots.AxesSubplot at 0x11d858f60>"
      ]
     },
     "execution_count": 769,
     "metadata": {},
     "output_type": "execute_result"
    },
    {
     "data": {
      "image/png": "[encoded data removed]",
      "text/plain": [
       "<Figure size 432x288 with 1 Axes>"
      ]
     },
     "metadata": {},
     "output_type": "display_data"
    }
   ],
   "source": [
    "# lets make a histogram of the differences in data \n",
    "\n",
    "sns.distplot(psych_data_diff.iloc[1,:].dropna())"
   ]
  },
  {
   "cell_type": "markdown",
   "metadata": {},
   "source": [
    "Most of the countries had no difference! Some of them even lost psychiatrists. Why? Were there too many psychiatrists?"
   ]
  },
  {
   "cell_type": "code",
   "execution_count": 1009,
   "metadata": {},
   "outputs": [
    {
     "data": {
      "text/plain": [
       "Text(0.5,1,'Psychiatrists Working in 2011 (per 100,000)')"
      ]
     },
     "execution_count": 1009,
     "metadata": {},
     "output_type": "execute_result"
    },
    {
     "data": {
      "image/png": "[encoded data removed]",
      "text/plain": [
       "<Figure size 432x288 with 1 Axes>"
      ]
     },
     "metadata": {},
     "output_type": "display_data"
    }
   ],
   "source": [
    "# lets see how many psychiatrists per 100,000 people countries had in 2011\n",
    "\n",
    "sns.distplot(psych_data.T.iloc[:,1].dropna().values.astype(float)).set_title(\"Psychiatrists Working in 2011 (per 100,000)\")"
   ]
  },
  {
   "cell_type": "code",
   "execution_count": 910,
   "metadata": {},
   "outputs": [
    {
     "data": {
      "text/plain": [
       "<matplotlib.axes._subplots.AxesSubplot at 0x121673da0>"
      ]
     },
     "execution_count": 910,
     "metadata": {},
     "output_type": "execute_result"
    },
    {
     "data": {
      "image/png": "[encoded data removed]",
      "text/plain": [
       "<Figure size 432x288 with 1 Axes>"
      ]
     },
     "metadata": {},
     "output_type": "display_data"
    }
   ],
   "source": [
    "stack_psych = psych_data_diff.stack().to_frame().reset_index()\n",
    "\n",
    "stack_psych.sort_values(0, ascending=False)\n",
    "\n",
    "stack_psych[stack_psych[0] < 150].max()\n",
    "\n",
    "sns.boxplot(x=0, y='Category', data=stack_psych)"
   ]
  },
  {
   "cell_type": "code",
   "execution_count": 996,
   "metadata": {},
   "outputs": [
    {
     "data": {
      "text/plain": [
       "<matplotlib.axes._subplots.AxesSubplot at 0x11a1aac18>"
      ]
     },
     "execution_count": 996,
     "metadata": {},
     "output_type": "execute_result"
    },
    {
     "data": {
      "image/png": "[encoded data removed]",
      "text/plain": [
       "<Figure size 432x288 with 1 Axes>"
      ]
     },
     "metadata": {},
     "output_type": "display_data"
    }
   ],
   "source": [
    "total_stack_psych = psych_data.stack().to_frame().reset_index()\n",
    "total_stack_psych[0] = psych_data.stack().to_frame().reset_index()[0].astype(float)\n",
    "\n",
    "sns.boxplot(x=0, y='Category', hue='Year', data=total_stack_psych[total_stack_psych[0] <100])"
   ]
  },
  {
   "cell_type": "code",
   "execution_count": 915,
   "metadata": {},
   "outputs": [
    {
     "data": {
      "text/html": [
       "<div>\n",
       "<style scoped>\n",
       "    .dataframe tbody tr th:only-of-type {\n",
       "        vertical-align: middle;\n",
       "    }\n",
       "\n",
       "    .dataframe tbody tr th {\n",
       "        vertical-align: top;\n",
       "    }\n",
       "\n",
       "    .dataframe thead th {\n",
       "        text-align: right;\n",
       "    }\n",
       "</style>\n",
       "<table border=\"1\" class=\"dataframe\">\n",
       "  <thead>\n",
       "    <tr style=\"text-align: right;\">\n",
       "      <th></th>\n",
       "      <th>Category</th>\n",
       "      <th>level_1</th>\n",
       "      <th>0</th>\n",
       "    </tr>\n",
       "  </thead>\n",
       "  <tbody>\n",
       "    <tr>\n",
       "      <th>40</th>\n",
       "      <td>Nurses working in mental health sector (per 10...</td>\n",
       "      <td>Liberia</td>\n",
       "      <td>-145.98</td>\n",
       "    </tr>\n",
       "    <tr>\n",
       "      <th>52</th>\n",
       "      <td>Nurses working in mental health sector (per 10...</td>\n",
       "      <td>Netherlands</td>\n",
       "      <td>-129.39</td>\n",
       "    </tr>\n",
       "    <tr>\n",
       "      <th>93</th>\n",
       "      <td>Nurses working in mental health sector (per 10...</td>\n",
       "      <td>Viet Nam</td>\n",
       "      <td>-72.42</td>\n",
       "    </tr>\n",
       "    <tr>\n",
       "      <th>42</th>\n",
       "      <td>Nurses working in mental health sector (per 10...</td>\n",
       "      <td>Maldives</td>\n",
       "      <td>-40.46</td>\n",
       "    </tr>\n",
       "    <tr>\n",
       "      <th>16</th>\n",
       "      <td>Nurses working in mental health sector (per 10...</td>\n",
       "      <td>Cyprus</td>\n",
       "      <td>-21.62</td>\n",
       "    </tr>\n",
       "  </tbody>\n",
       "</table>\n",
       "</div>"
      ],
      "text/plain": [
       "                                             Category      level_1       0\n",
       "40  Nurses working in mental health sector (per 10...      Liberia -145.98\n",
       "52  Nurses working in mental health sector (per 10...  Netherlands -129.39\n",
       "93  Nurses working in mental health sector (per 10...     Viet Nam  -72.42\n",
       "42  Nurses working in mental health sector (per 10...     Maldives  -40.46\n",
       "16  Nurses working in mental health sector (per 10...       Cyprus  -21.62"
      ]
     },
     "execution_count": 915,
     "metadata": {},
     "output_type": "execute_result"
    }
   ],
   "source": [
    "stack_psych[stack_psych['Category'].str.contains('Nurses')].sort_values(0).head(5)"
   ]
  },
  {
   "cell_type": "code",
   "execution_count": 998,
   "metadata": {},
   "outputs": [
    {
     "data": {
      "text/plain": [
       "[(-5, 40), (-5, 40)]"
      ]
     },
     "execution_count": 998,
     "metadata": {},
     "output_type": "execute_result"
    },
    {
     "data": {
      "image/png": "[encoded data removed]",
      "text/plain": [
       "<Figure size 432x288 with 1 Axes>"
      ]
     },
     "metadata": {},
     "output_type": "display_data"
    }
   ],
   "source": [
    "compare_psych = psych_data.T.iloc[:,0:2].T.swaplevel(\n",
    "                ).reset_index(level=1).drop('Category', axis=1).T.dropna(how='any')\n",
    "\n",
    "sns.regplot(x=compare_psych[2011].astype(float), y=compare_psych[2014].astype(float)).set(xlim=(-5, 40), ylim=(-5, 40))"
   ]
  },
  {
   "cell_type": "markdown",
   "metadata": {},
   "source": [
    "# Summary and Python II\n",
    "\n",
    "In the second part of our three-part Python series, we've learned about variables, data structures, functions, and graphing. While we have introduced these topics in the context of data science with Python, they are central to programming in any language and in any context. We have also laid the foundation for programmatically obtaining, cleaning, and visualizing data sets.\n",
    "\n",
    "Now that we have an understanding of how to obtain and visualize some simple statistical information contained in a dataset, we've set the stage for machine learning and data analysis. These topics will be covered in depth in our next workshop, Python II.\n",
    "\n",
    "Please fill out the post workshop survey posted on the Facebook event page!\n",
    "\n",
    "Don't forget about our next workshop, Python 2, and our upcoming workshops this semester, including the R workshop series, sports data analysis in R, Data Visualization in Python, and more!"
   ]
  }
 ],
 "metadata": {
  "kernelspec": {
   "display_name": "Python 3",
   "language": "python",
   "name": "python3"
  },
  "language_info": {
   "codemirror_mode": {
    "name": "ipython",
    "version": 3
   },
   "file_extension": ".py",
   "mimetype": "text/x-python",
   "name": "python",
   "nbconvert_exporter": "python",
   "pygments_lexer": "ipython3",
   "version": "3.6.1"
  }
 },
 "nbformat": 4,
 "nbformat_minor": 1
}
